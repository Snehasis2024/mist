{
 "cells": [
  {
   "attachments": {},
   "cell_type": "markdown",
   "metadata": {},
   "source": [
    "# Generate spec embeds\n",
    "Generate embeds for baselines spec2vec, ms2deepscore, etc."
   ]
  },
  {
   "cell_type": "code",
   "execution_count": 1,
   "metadata": {},
   "outputs": [],
   "source": [
    "# Install package if needed\n",
    "#!pip install spec2vec\n",
    "#!pip install ms2deepscore\n",
    "\n",
    "# Download pretrained ms2deepscore\n",
    "#!wget https://zenodo.org/record/4699356/files/MS2DeepScore_allGNPSpositive_10k_500_500_200.hdf5?download=1\n",
    "#!mv MS2DeepScore_allGNPSpositive_10k_500_500_200.hdf5?download=1 MS2DeepScore_allGNPSpositive_10k_500_500_200.hdf5\n",
    "\n",
    "# Download pretrained spec2vec\n",
    "#!wget https://zenodo.org/record/4173596/files/spec2vec_AllPositive_ratio05_filtered_201101_iter_15.model?download=1\n",
    "#!mv spec2vec_AllPositive_ratio05_filtered_201101_iter_15.model?download=1 spec2vec.model\n",
    "\n",
    "#!wget https://zenodo.org/record/4173596/files/spec2vec_AllPositive_ratio05_filtered_201101_iter_15.model.trainables.syn1neg.npy?download=1\n",
    "#!mv spec2vec_AllPositive_ratio05_filtered_201101_iter_15.model.trainables.syn1neg.npy?download=1 spec2vec.model.trainables.syn1neg.npy\n",
    "\n",
    "#!wget https://zenodo.org/record/4173596/files/spec2vec_AllPositive_ratio05_filtered_201101_iter_15.model.wv.vectors.npy?download=1\n",
    "#!mv spec2vec_AllPositive_ratio05_filtered_201101_iter_15.model.wv.vectors.npy?download=1 spec2vec.model.wv.vectors.npy"
   ]
  },
  {
   "cell_type": "code",
   "execution_count": 2,
   "metadata": {},
   "outputs": [
    {
     "name": "stderr",
     "output_type": "stream",
     "text": [
      "2023-05-01 08:19:10.696035: I tensorflow/core/platform/cpu_feature_guard.cc:182] This TensorFlow binary is optimized to use available CPU instructions in performance-critical operations.\n",
      "To enable the following instructions: AVX2 FMA, in other operations, rebuild TensorFlow with the appropriate compiler flags.\n",
      "2023-05-01 08:19:11.268818: W tensorflow/compiler/tf2tensorrt/utils/py_utils.cc:38] TF-TRT Warning: Could not find TensorRT\n"
     ]
    }
   ],
   "source": [
    "from tqdm import tqdm\n",
    "from pathlib import Path\n",
    "\n",
    "import pickle\n",
    "import numpy as np\n",
    "import pandas as pd\n",
    "\n",
    "# Matchms filtering\n",
    "import matchms\n",
    "from matchms import importing\n",
    "from matchms.filtering import default_filters\n",
    "from matchms.filtering import normalize_intensities\n",
    "from matchms.filtering import select_by_intensity\n",
    "from matchms.filtering import select_by_mz\n",
    "import matchms.filtering as msfilters\n",
    "\n",
    "from matchms.similarity import ModifiedCosine\n",
    "from matchms import calculate_scores\n",
    "\n",
    "import gensim\n",
    "from spec2vec import Spec2Vec\n",
    "\n",
    "import ms2deepscore\n",
    "from ms2deepscore.models import load_model\n",
    "\n",
    "\n",
    "matchms.set_matchms_logger_level(loglevel=\"ERROR\")"
   ]
  },
  {
   "cell_type": "code",
   "execution_count": 3,
   "metadata": {},
   "outputs": [],
   "source": [
    "def peak_processing(spectrum):\n",
    "    \"\"\" peak_processing. \n",
    "\n",
    "    Taken directly from tutorial\n",
    "\n",
    "    \"\"\"\n",
    "    spectrum = default_filters(spectrum)\n",
    "    spectrum = normalize_intensities(spectrum)\n",
    "    spectrum = select_by_intensity(spectrum, intensity_from=0.01)\n",
    "    spectrum = select_by_mz(spectrum, mz_from=10, mz_to=1500)\n",
    "    return spectrum\n"
   ]
  },
  {
   "cell_type": "code",
   "execution_count": 4,
   "metadata": {},
   "outputs": [
    {
     "name": "stderr",
     "output_type": "stream",
     "text": [
      "31145it [00:35, 880.09it/s] \n"
     ]
    }
   ],
   "source": [
    "# Debug\n",
    "# Non debug\n",
    "debug = False\n",
    "\n",
    "f = \"../data/paired_spectra/csi2022/csi2022.mgf\"\n",
    "f_split = \"../data/paired_spectra/csi2022/splits/csi_split_0.txt\"\n",
    "\n",
    "res = Path(\"../results/2023_04_30_embed_matchms/\")\n",
    "res.mkdir(exist_ok=True)\n",
    "\n",
    "split_df = pd.read_csv(f_split, sep=\",\")\n",
    "test_names = set(split_df[split_df['Fold_0'] == \"test\"]['name'].values)\n",
    "\n",
    "input_specs = importing.load_from_mgf(f, metadata_harmonization=True)\n",
    "new_names, new_specs = [], []\n",
    "for ind, i in enumerate(tqdm(input_specs)):\n",
    "    if debug and ind > 20:\n",
    "        break\n",
    "\n",
    "    f_name = i.metadata['_file']\n",
    "    if f_name not in test_names:\n",
    "        continue\n",
    "\n",
    "    new_specs.append(i)\n",
    "    new_names.append(f_name)\n",
    "    \n",
    "input_specs, names = new_specs, new_names\n",
    "\n",
    "spectrums = [peak_processing(s) for s in input_specs]\n"
   ]
  },
  {
   "cell_type": "code",
   "execution_count": null,
   "metadata": {},
   "outputs": [],
   "source": []
  },
  {
   "cell_type": "code",
   "execution_count": 5,
   "metadata": {},
   "outputs": [],
   "source": [
    "model_name = \"ms2deepscore\"\n",
    "model_name = \"spec2vec\"\n",
    "model_name = \"cosine\"\n",
    "\n",
    "out_file = res / f\"{model_name}_out.p\"\n",
    "\n",
    "if model_name == \"spec2vec\":\n",
    "    spec_model = \"spec2vec.model\"\n",
    "    model = gensim.models.Word2Vec.load(spec_model)\n",
    "    embed_model = Spec2Vec(model=model, intensity_weighting_power=0.5,\n",
    "                           allowed_missing_percentage=5.0)\n",
    "    embed_fn = embed_model._calculate_embedding\n",
    "    pairwise=False\n",
    "elif model_name == \"ms2deepscore\":\n",
    "    spec_model = \"MS2DeepScore_allGNPSpositive_10k_500_500_200.hdf5\"\n",
    "    tf_model = load_model(\"MS2DeepScore_allGNPSpositive_10k_500_500_200.hdf5\")\n",
    "    model = ms2deepscore.MS2DeepScore(tf_model)\n",
    "    embed_fn = lambda x : model.calculate_vectors([x])[0]\n",
    "    pairwise=False\n",
    "elif model_name == \"cosine\":\n",
    "    similarity_measure = ModifiedCosine(tolerance=0.005)\n",
    "    pairwise_fn = lambda x: calculate_scores(x, x, \n",
    "                                             similarity_measure, \n",
    "                                             is_symmetric=True).scores['score']\n",
    "    pairwise=True"
   ]
  },
  {
   "cell_type": "code",
   "execution_count": 24,
   "metadata": {},
   "outputs": [],
   "source": [
    "%%capture captured\n",
    "if pairwise:\n",
    "    pairwise_scores = pairwise_fn(spectrums)\n",
    "    out = {\"names\": np.array(names),\n",
    "           \"pairwise_cos\": pairwise_scores,\n",
    "           \"args\": {\"model\": model_name}}\n",
    "\n",
    "else:\n",
    "    new_embeddings = []\n",
    "    new_names = []\n",
    "    for i, j in tqdm(zip(spectrums, names)):\n",
    "        if i is None:\n",
    "            continue\n",
    "        new_embedding = embed_fn(i)\n",
    "        new_embeddings.append(new_embedding)\n",
    "        new_names.append(j)\n",
    "\n",
    "    new_embeddings = np.vstack(new_embeddings)\n",
    "\n",
    "    out = {\"names\": np.array(new_names),\n",
    "           \"embeds\": new_embeddings,\n",
    "           \"args\": {\"model\": model_name}}\n",
    "\n",
    "with open(out_file, \"wb\") as fp:\n",
    "    pickle.dump(out, fp)\n"
   ]
  }
 ],
 "metadata": {
  "kernelspec": {
   "display_name": "ms-gen",
   "language": "python",
   "name": "python3"
  },
  "language_info": {
   "codemirror_mode": {
    "name": "ipython",
    "version": 3
   },
   "file_extension": ".py",
   "mimetype": "text/x-python",
   "name": "python",
   "nbconvert_exporter": "python",
   "pygments_lexer": "ipython3",
   "version": "3.8.13"
  },
  "orig_nbformat": 4
 },
 "nbformat": 4,
 "nbformat_minor": 2
}
