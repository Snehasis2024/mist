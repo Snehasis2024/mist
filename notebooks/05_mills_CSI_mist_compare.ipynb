{
 "cells": [
  {
   "attachments": {},
   "cell_type": "markdown",
   "metadata": {},
   "source": [
    "## Mills CSI MIST comparison\n",
    "\n",
    "Comparing our metabolite predictions to those from CSI FingerID"
   ]
  },
  {
   "cell_type": "code",
   "execution_count": 1,
   "metadata": {},
   "outputs": [
    {
     "name": "stderr",
     "output_type": "stream",
     "text": [
      "/home/samlg/.conda/envs/ms-gen/lib/python3.8/site-packages/tqdm/auto.py:22: TqdmWarning: IProgress not found. Please update jupyter and ipywidgets. See https://ipywidgets.readthedocs.io/en/stable/user_install.html\n",
      "  from .autonotebook import tqdm as notebook_tqdm\n"
     ]
    }
   ],
   "source": [
    "from pathlib import Path\n",
    "\n",
    "import numpy as np\n",
    "import pandas as pd\n",
    "import random\n",
    "\n",
    "from rdkit import Chem\n",
    "from rdkit.Chem import Draw\n",
    "from rdkit.Chem import AllChem\n",
    "from rdkit import DataStructs\n",
    "\n",
    "\n",
    "from mist.utils.plot_utils import *\n",
    "from mist import utils\n",
    "\n",
    "set_style()"
   ]
  },
  {
   "cell_type": "code",
   "execution_count": 2,
   "metadata": {},
   "outputs": [],
   "source": [
    "def to_ikey(smiles):\n",
    "    return Chem.MolToInchiKey(Chem.MolFromSmiles(Chem.MolToSmiles(Chem.MolFromSmiles(smiles), isomericSmiles=False)))"
   ]
  },
  {
   "attachments": {},
   "cell_type": "markdown",
   "metadata": {},
   "source": [
    "## Load data"
   ]
  },
  {
   "cell_type": "code",
   "execution_count": 3,
   "metadata": {},
   "outputs": [
    {
     "name": "stderr",
     "output_type": "stream",
     "text": [
      "8662it [00:01, 7631.11it/s] \n",
      "6438it [00:00, 9190.01it/s] \n"
     ]
    }
   ],
   "source": [
    "mgf_file_500 = Path(\"../data/raw/mills/Mills_mzxml/mgf_export_sirius_filtered_500.mgf\")\n",
    "mgf_file_full = Path(\"../data/raw/mills/Mills_mzxml/mgf_export_sirius.mgf\")\n",
    "\n",
    "full_mgf_parsed = utils.parse_spectra_mgf(mgf_file_full)\n",
    "mgf_500_parsed = utils.parse_spectra_mgf(mgf_file_500)"
   ]
  },
  {
   "cell_type": "code",
   "execution_count": 4,
   "metadata": {},
   "outputs": [
    {
     "name": "stdout",
     "output_type": "stream",
     "text": [
      "Full: 1990\n",
      "500: 1515\n"
     ]
    }
   ],
   "source": [
    "full_names = set([f\"mills_{i[0]['FEATURE_ID']}\" for i in full_mgf_parsed])\n",
    "filtered_names = set([f\"mills_{i[0]['FEATURE_ID']}\" for i in mgf_500_parsed])\n",
    "\n",
    "# print lens\n",
    "print(f\"Full: {len(full_names)}\")\n",
    "print(f\"500: {len(filtered_names)}\")"
   ]
  },
  {
   "cell_type": "code",
   "execution_count": 5,
   "metadata": {},
   "outputs": [],
   "source": [
    "# Need to do a small set of analyses on 4 possible identifications:\n",
    "# Us with CSI Formulae\n",
    "# Us with Formula IDS + PubChem\n",
    "# Us with CSI \n",
    "\n",
    "input_folder = Path(\"../data/raw/mills/\")\n",
    "out_res = Path(\"../results/2023_05_10_prospective_reanalysis_forms/\")\n",
    "mist_res_dir = Path(\"../data/raw/mills/model_predictions/\")\n",
    "mist_csi_res_dir = Path(\"../results/2023_05_10_prospective_reanalysis_forms/mills/\")\n",
    "\n",
    "# Our results files\n",
    "csi_pubchem_res_dir = Path(\"../results/2023_05_08_sirius_check/sirius5s_out_summary/\")\n",
    "csi_hmdb_res_dir = Path(\"../data/paired_spectra/mills/sirius_outputs_structure_summary\")\n",
    "\n",
    "csi_hmdb_res = csi_hmdb_res_dir / f\"compound_identifications.tsv\"\n",
    "csi_hmdb_res_formula = csi_hmdb_res_dir  / f\"formula_identifications.tsv\"\n",
    "\n",
    "csi_pubchem_res = csi_pubchem_res_dir / f\"compound_identifications.tsv\"\n",
    "csi_pubchem_res_formula = csi_pubchem_res_dir  / f\"formula_identifications.tsv\"\n",
    "\n",
    "# Get smiles\n",
    "mist_hmdb_smiles_out = mist_res_dir / \"inthmdb/smiles_outputs.tsv\"\n",
    "mist_pubchem_smiles_out = mist_res_dir / \"intpubchem/smiles_outputs.tsv\"\n",
    "\n",
    "mist_csi_hmdb_smiles_out = mist_csi_res_dir / \"inthmdb/smiles_outputs.tsv\"\n",
    "mist_csi_pubchem_smiles_out = mist_csi_res_dir / \"intpubchem/smiles_outputs.tsv\"\n",
    "\n",
    "\n",
    "save_dir = out_res / \"csi_compare\"\n",
    "save_dir.mkdir(exist_ok=True)"
   ]
  },
  {
   "cell_type": "code",
   "execution_count": 6,
   "metadata": {},
   "outputs": [
    {
     "name": "stderr",
     "output_type": "stream",
     "text": [
      "RDKit WARNING: [18:11:04] WARNING: not removing hydrogen atom without neighbors\n",
      "[18:11:04] WARNING: not removing hydrogen atom without neighbors\n",
      "RDKit WARNING: [18:11:04] WARNING: not removing hydrogen atom without neighbors\n",
      "[18:11:04] WARNING: not removing hydrogen atom without neighbors\n",
      "RDKit WARNING: [18:11:05] WARNING: not removing hydrogen atom without neighbors\n",
      "RDKit WARNING: [18:11:05] WARNING: not removing hydrogen atom without neighbors\n",
      "[18:11:05] WARNING: not removing hydrogen atom without neighbors\n",
      "[18:11:05] WARNING: not removing hydrogen atom without neighbors\n",
      "RDKit WARNING: [18:11:05] WARNING: not removing hydrogen atom without neighbors\n",
      "RDKit WARNING: [18:11:05] WARNING: not removing hydrogen atom without neighbors\n",
      "RDKit WARNING: [18:11:05] WARNING: not removing hydrogen atom without neighbors\n",
      "RDKit WARNING: [18:11:05] WARNING: not removing hydrogen atom without neighbors\n",
      "[18:11:05] WARNING: not removing hydrogen atom without neighbors\n",
      "RDKit WARNING: [18:11:05] WARNING: not removing hydrogen atom without neighbors\n",
      "RDKit WARNING: [18:11:05] WARNING: not removing hydrogen atom without neighbors\n",
      "[18:11:05] WARNING: not removing hydrogen atom without neighbors\n",
      "[18:11:05] WARNING: not removing hydrogen atom without neighbors\n",
      "[18:11:05] WARNING: not removing hydrogen atom without neighbors\n",
      "[18:11:05] WARNING: not removing hydrogen atom without neighbors\n",
      "[18:11:05] WARNING: not removing hydrogen atom without neighbors\n",
      "RDKit WARNING: [18:11:05] WARNING: not removing hydrogen atom without neighbors\n",
      "RDKit WARNING: [18:11:05] WARNING: not removing hydrogen atom without neighbors\n",
      "[18:11:05] WARNING: not removing hydrogen atom without neighbors\n",
      "[18:11:05] WARNING: not removing hydrogen atom without neighbors\n",
      "RDKit WARNING: [18:11:05] WARNING: not removing hydrogen atom without neighbors\n",
      "[18:11:05] WARNING: not removing hydrogen atom without neighbors\n",
      "RDKit WARNING: [18:11:06] WARNING: not removing hydrogen atom without neighbors\n",
      "[18:11:06] WARNING: not removing hydrogen atom without neighbors\n",
      "RDKit WARNING: [18:11:06] WARNING: not removing hydrogen atom without neighbors\n",
      "RDKit WARNING: [18:11:06] WARNING: not removing hydrogen atom without neighbors\n",
      "RDKit WARNING: [18:11:06] WARNING: not removing hydrogen atom without neighbors\n",
      "[18:11:06] WARNING: not removing hydrogen atom without neighbors\n",
      "[18:11:06] WARNING: not removing hydrogen atom without neighbors\n",
      "[18:11:06] WARNING: not removing hydrogen atom without neighbors\n",
      "RDKit WARNING: [18:11:06] WARNING: not removing hydrogen atom without neighbors\n",
      "[18:11:06] WARNING: not removing hydrogen atom without neighbors\n"
     ]
    }
   ],
   "source": [
    "mist_hmdb_df = pd.read_csv(mist_hmdb_smiles_out, sep=\"\\t\")\n",
    "mist_pubchem_df = pd.read_csv(mist_pubchem_smiles_out, sep=\"\\t\")\n",
    "\n",
    "mist_csi_hmdb_df = pd.read_csv(mist_csi_hmdb_smiles_out, sep=\"\\t\")\n",
    "mist_csi_pubchem_df = pd.read_csv(mist_csi_pubchem_smiles_out, sep=\"\\t\")\n",
    "\n",
    "# Resort so rank == 0 for all of them\n",
    "mist_hmdb_df = mist_hmdb_df[mist_hmdb_df[\"rank\"] ==0]\n",
    "mist_pubchem_df = mist_pubchem_df[mist_pubchem_df[\"rank\"] ==0]\n",
    "\n",
    "mist_csi_hmdb_df = mist_csi_hmdb_df[mist_csi_hmdb_df[\"rank\"] ==0]\n",
    "mist_csi_pubchem_df = mist_csi_pubchem_df[mist_csi_pubchem_df[\"rank\"] ==0]\n",
    "\n",
    "\n",
    "# Add ikey column to all of these\n",
    "mist_hmdb_df[\"ikey\"] = mist_hmdb_df[\"smi\"].apply(to_ikey)\n",
    "mist_pubchem_df[\"ikey\"] = mist_pubchem_df[\"smi\"].apply(to_ikey)\n",
    "mist_csi_hmdb_df['ikey']    = mist_csi_hmdb_df[\"smi\"].apply(to_ikey)\n",
    "mist_csi_pubchem_df['ikey'] = mist_csi_pubchem_df[\"smi\"].apply(to_ikey)\n",
    "\n",
    "# Add formula column to all\n",
    "mist_hmdb_df[\"formula\"] = mist_hmdb_df[\"smi\"].apply(utils.form_from_smi)\n",
    "mist_pubchem_df[\"formula\"] = mist_pubchem_df[\"smi\"].apply(utils.form_from_smi)\n",
    "mist_csi_hmdb_df['formula']    = mist_csi_hmdb_df[\"smi\"].apply(utils.form_from_smi)\n",
    "mist_csi_pubchem_df['formula'] = mist_csi_pubchem_df[\"smi\"].apply(utils.form_from_smi)"
   ]
  },
  {
   "cell_type": "code",
   "execution_count": 7,
   "metadata": {},
   "outputs": [],
   "source": [
    "# Create form and inchikey dicts for all\n",
    "mist_hmdb_form_dict = dict(zip(mist_hmdb_df[\"name\"], mist_hmdb_df[\"formula\"]))\n",
    "mist_hmdb_ikey_dict = dict(zip(mist_hmdb_df[\"name\"], mist_hmdb_df[\"ikey\"]))\n",
    "mist_hmdb_smiles_dict = dict(zip(mist_hmdb_df[\"name\"], mist_hmdb_df[\"smi\"]))\n",
    "\n",
    "mist_pubchem_form_dict = dict(zip(mist_pubchem_df[\"name\"], mist_pubchem_df[\"formula\"]))\n",
    "mist_pubchem_ikey_dict = dict(zip(mist_pubchem_df[\"name\"], mist_pubchem_df[\"ikey\"]))\n",
    "\n",
    "mist_csi_hmdb_form_dict = dict(zip(mist_csi_hmdb_df[\"name\"], mist_csi_hmdb_df[\"formula\"]))\n",
    "mist_csi_hmdb_ikey_dict = dict(zip(mist_csi_hmdb_df[\"name\"], mist_csi_hmdb_df[\"ikey\"]))\n",
    "mist_csi_hmdb_smiles_dict = dict(zip(mist_csi_hmdb_df[\"name\"], mist_csi_hmdb_df[\"smi\"]))\n",
    "\n",
    "mist_csi_pubchem_form_dict = dict(zip(mist_csi_pubchem_df[\"name\"], mist_csi_pubchem_df[\"formula\"]))\n",
    "mist_csi_pubchem_ikey_dict = dict(zip(mist_csi_pubchem_df[\"name\"], mist_csi_pubchem_df[\"ikey\"]))\n",
    "mist_csi_pubchem_smiles_dict = dict(zip(mist_csi_pubchem_df[\"name\"], mist_csi_pubchem_df[\"smi\"]))"
   ]
  },
  {
   "cell_type": "code",
   "execution_count": 8,
   "metadata": {},
   "outputs": [],
   "source": [
    "csi_hmdb_res = csi_hmdb_res_dir / f\"compound_identifications.tsv\"\n",
    "csi_hmdb_res_formula = csi_hmdb_res_dir  / f\"formula_identifications.tsv\"\n",
    "\n",
    "csi_pubchem_res = csi_pubchem_res_dir / f\"compound_identifications.tsv\"\n",
    "csi_pubchem_res_formula = csi_pubchem_res_dir  / f\"formula_identifications.tsv\""
   ]
  },
  {
   "cell_type": "code",
   "execution_count": 9,
   "metadata": {},
   "outputs": [],
   "source": [
    "id_rename = lambda x : f\"mills_{x.rsplit('_')[-1]}\"\n",
    "#  read csv so that the first column, without a header, is the index and the header is off by 1 shifted\n",
    "csi_df = pd.read_csv(csi_hmdb_res, sep=\"\\t\")\n",
    "\n",
    "# 34 rows have non top formula ranked \n",
    "#csi_df[csi_df['formulaRank'].values >= 2].shape\n",
    "csi_id_to_smiles = dict(zip(csi_df['id'].values, csi_df['smiles'].values))\n",
    "# extract and convert  33_mgf_export_sirius_filtered_500_46 format ids to mills_46\n",
    "csi_smi_dict = {id_rename(k) : v for k, v in csi_id_to_smiles.items()} \n",
    "\n",
    "csi_form_dict = {k: utils.form_from_smi(v) for k, v in csi_smi_dict.items()}\n",
    "csi_form_dict = dict(zip(csi_df['id'].values, csi_df['molecularFormula'].values))\n",
    "csi_form_dict = {id_rename(k) : v for k, v in csi_form_dict.items()}\n",
    "\n",
    "csi_inchi_dict = {k: to_ikey(v) for k, v in csi_smi_dict.items()}\n",
    "\n",
    "csi_df_forms = pd.read_csv(csi_hmdb_res_formula, sep=\"\\t\")\n",
    "csi_form_ids_dict = dict(zip(csi_df_forms['id'].values, csi_df_forms['molecularFormula'].values))\n",
    "csi_form_ids_dict = {id_rename(k) : v for k, v in csi_form_ids_dict.items()}\n",
    "\n",
    "# Repeat for pubchem res\n",
    "csi_pubchem_df = pd.read_csv(csi_pubchem_res, sep=\"\\t\")\n",
    "csi_pubchem_id_to_smiles = dict(zip(csi_pubchem_df['id'].values, csi_pubchem_df['smiles'].values))\n",
    "csi_pubchem_smi_dict = {id_rename(k) : v for k, v in csi_pubchem_id_to_smiles.items()}\n",
    "\n",
    "csi_pubchem_form_dict = dict(zip(csi_pubchem_df['id'].values, csi_pubchem_df['molecularFormula'].values)) \n",
    "csi_pubchem_form_dict = {id_rename(k) : v for k, v in csi_pubchem_form_dict.items()}\n",
    "#csi_pubchem_form_dict = {k: utils.form_from_smi(v) for k, v in csi_pubchem_smi_dict.items()}\n",
    "\n",
    "csi_pubchem_inchi_dict = {k: to_ikey(v) for k, v in csi_pubchem_smi_dict.items()}\n",
    "csi_pubchem_df_forms = pd.read_csv(csi_pubchem_res_formula, sep=\"\\t\")\n",
    "csi_pubchem_form_ids_dict = dict(zip(csi_pubchem_df_forms['id'].values, csi_pubchem_df_forms['molecularFormula'].values))\n",
    "csi_pubchem_form_ids_dict = {id_rename(k) : v for k, v in csi_pubchem_form_ids_dict.items()}"
   ]
  },
  {
   "cell_type": "code",
   "execution_count": 10,
   "metadata": {},
   "outputs": [
    {
     "name": "stdout",
     "output_type": "stream",
     "text": [
      "C7H15NO3 C7H15NO3\n",
      "C5H9NO2 C5H9NO2\n",
      "C9H11NO2 C9H11NO2\n",
      "C17H19NO3 C17H19NO3\n"
     ]
    }
   ],
   "source": [
    "len(csi_inchi_dict)\n",
    "print(csi_form_dict['mills_46'], mist_hmdb_form_dict['mills_46'])\n",
    "print(csi_form_dict['mills_44'], mist_hmdb_form_dict['mills_44'])\n",
    "print(csi_form_dict['mills_420'], mist_hmdb_form_dict['mills_420'])\n",
    "print(csi_form_dict['mills_1458'], mist_hmdb_form_dict['mills_1458'])"
   ]
  },
  {
   "cell_type": "code",
   "execution_count": 11,
   "metadata": {},
   "outputs": [
    {
     "name": "stdout",
     "output_type": "stream",
     "text": [
      "CSI hmdb has 724 unique examples\n",
      "CSI pubchem has 1134 unique examples\n",
      "MIST has 705 unique examples\n",
      "CSI and MIST have 545 overlapping examples formulas for hmdb\n"
     ]
    }
   ],
   "source": [
    "# Overlapping keys\n",
    "csi_ex = set(csi_form_dict.keys())\n",
    "csi_pubchem_ex = set(csi_pubchem_form_dict.keys())\n",
    "mist_ex = set(mist_hmdb_form_dict.keys())\n",
    "overlap_ex = csi_ex.intersection(mist_ex)\n",
    "\n",
    "# Print lengths with nice message\n",
    "print(f\"CSI hmdb has {len(csi_ex)} unique examples\")\n",
    "print(f\"CSI pubchem has {len(csi_pubchem_ex)} unique examples\")\n",
    "print(f\"MIST has {len(mist_ex)} unique examples\")\n",
    "print(f\"CSI and MIST have {len(overlap_ex)} overlapping examples formulas for hmdb\")"
   ]
  },
  {
   "cell_type": "code",
   "execution_count": 12,
   "metadata": {},
   "outputs": [
    {
     "name": "stdout",
     "output_type": "stream",
     "text": [
      "CSI and MIST have 355 overlapping examples with equivalent formulas\n",
      "CSI and MIST have 200 overlapping examples with equivalent inchikeys\n"
     ]
    }
   ],
   "source": [
    "## Equivalent keys\n",
    "equiv_form = [i for i in overlap_ex if csi_form_dict[i] == mist_hmdb_form_dict[i]]\n",
    "equiv_ikey = [i for i in overlap_ex if csi_inchi_dict[i] == mist_hmdb_ikey_dict[i]]\n",
    "\n",
    "# Print lengths\n",
    "print(f\"CSI and MIST have {len(equiv_form)} overlapping examples with equivalent formulas\")\n",
    "print(f\"CSI and MIST have {len(equiv_ikey)} overlapping examples with equivalent inchikeys\")"
   ]
  },
  {
   "cell_type": "code",
   "execution_count": 25,
   "metadata": {},
   "outputs": [],
   "source": [
    "# Generate random baseline using HMDB\n",
    "import pickle\n",
    "input_p = pickle.load(open(\"../data/raw/hmdb/hmdb_formulae_inchikey.p\", \"rb\"))\n",
    "# input_p.keys()"
   ]
  },
  {
   "cell_type": "code",
   "execution_count": 14,
   "metadata": {},
   "outputs": [],
   "source": [
    "# Get all names on which mist and csi agree\n",
    "random.seed(1)\n",
    "form_entries =   [mist_hmdb_form_dict[i] for i in equiv_form]\n",
    "\n",
    "# Randomly sample from hmdb dict {form: [inchikey]}\n",
    "rand_smi_dict = {i: random.choice(list(sorted(input_p[i])))[0] for i in form_entries}\n",
    "rand_inchi_dict = {k: to_ikey(v) for k, v in rand_smi_dict.items()}\n",
    "\n",
    "rand_smi_dict = {i: rand_smi_dict[mist_hmdb_form_dict[i]] for i in equiv_form}\n",
    "rand_inchi_dict = {i: rand_inchi_dict[mist_hmdb_form_dict[i]] for i in equiv_form}"
   ]
  },
  {
   "cell_type": "code",
   "execution_count": 15,
   "metadata": {},
   "outputs": [
    {
     "name": "stdout",
     "output_type": "stream",
     "text": [
      "Random and MIST have 132 overlapping examples with equivalent inchikeys\n",
      "Random and CSI have 117 overlapping examples with equivalent inchikeys\n"
     ]
    }
   ],
   "source": [
    "# Check ikey overlap between random and mist\n",
    "# Check ikey overlap between random and csi\n",
    "rand_ikey_overlap_mist = [i for i in equiv_form if rand_inchi_dict[i] == mist_hmdb_ikey_dict[i]]\n",
    "rand_ikey_overlap_csi = [i for i in equiv_form if rand_inchi_dict[i] == csi_inchi_dict[i]]\n",
    "print(f\"Random and MIST have {len(rand_ikey_overlap_mist)} overlapping examples with equivalent inchikeys\")\n",
    "print(f\"Random and CSI have {len(rand_ikey_overlap_csi)} overlapping examples with equivalent inchikeys\")"
   ]
  },
  {
   "cell_type": "code",
   "execution_count": 16,
   "metadata": {},
   "outputs": [],
   "source": [
    "# Choose set of examples where csi and mist agree but random does not\n",
    "rand_diff = [i for i in equiv_form if mist_hmdb_ikey_dict[i] == csi_inchi_dict[i]]\n",
    "rand_diff = [i for i in rand_diff if rand_inchi_dict[i] != mist_hmdb_ikey_dict[i]]"
   ]
  },
  {
   "cell_type": "code",
   "execution_count": 17,
   "metadata": {},
   "outputs": [
    {
     "name": "stdout",
     "output_type": "stream",
     "text": [
      "mills_761 True CCOC(=S)Nc1ccc(O)cc1\n",
      "mills_708 True O=[N+]([O-])c1ccc(O)c(O)c1\n",
      "mills_1265 True CC(CCC(=O)O)C1CCC2C3C(O)CC4=CC(=O)CCC4(C)C3CC(O)C12C\n",
      "mills_420 True NC(Cc1ccccc1)C(=O)O\n",
      "mills_450 True NCC1CCC(C(=O)O)CC1\n",
      "mills_338 True CCC(C)C(N)C(=O)N1CCCC1C(=O)O\n",
      "mills_428 True Oc1ncnc2nc[nH]c12\n",
      "mills_1288 True CC(CCC(=O)O)C1CCC2C3C(O)CC4CC(OS(=O)(=O)O)CCC4(C)C3CCC12C\n",
      "mills_36 True NC(N)=NCCCC(N)C(=O)O\n",
      "mills_1276 True CC1CCC2C(C)C3C(CC4C5CCC6CC(O)CCC6(C)C5CCC43C)N2C1\n"
     ]
    }
   ],
   "source": [
    "# Print 10 smiles from rand diff with their ids\n",
    "sample_keys = [\"mills_761\", \"mills_708\", \"mills_1265\", \"mills_420\",\n",
    "               \"mills_450\", \"mills_338\", \"mills_428\",\n",
    "               \"mills_1288\", \"mills_36\", \"mills_1276\",]\n",
    "\n",
    "# for ind, i in enumerate(rand_diff):\n",
    "#     print(i, rand_smi_dict[i], mist_smi_dict[i])\n",
    "#     if ind > 10:\n",
    "#         break\n",
    "\n",
    "for ind, i in enumerate(sample_keys):\n",
    "    print(i, csi_inchi_dict[i] == mist_hmdb_ikey_dict[i], mist_hmdb_smiles_dict[i])"
   ]
  },
  {
   "cell_type": "code",
   "execution_count": 18,
   "metadata": {},
   "outputs": [
    {
     "name": "stdout",
     "output_type": "stream",
     "text": [
      "mills_143 False C1=CC(=CN=C1)C(=O)O O=C(O)c1ccncc1\n",
      "mills_1278 False CC(CCC(=O)O)C1CCC2C1(CCC3C2C(=O)CC4C3(CCC(C4)O)C)C CCCCCCC(C)(C)c1cc(O)c2c(c1)OC(C)(C)C1CCC(=O)CC21\n",
      "mills_1166 False CC(CCC(=O)O)C1CCC2C1(C(CC3C2C(CC4C3(CCC(C4)O)C)O)O)C CC(CCC(=O)O)C1CCC2C3C(O)CC4CC(O)C(O)CC4(C)C3CCC12C\n",
      "mills_170 False CC1C(C(C(C(O1)OCC2C(C(C(C(O2)O)O)O)O)O)O)O CC1OC(OC2C(O)OC(CO)C(O)C2O)C(O)C(O)C1O\n",
      "mills_40 False CC(=O)NCC(CCC(C(=O)O)N)O NC(CCCCNCC(=O)O)C(=O)O\n"
     ]
    }
   ],
   "source": [
    "# Find examples where mist and csi differe\n",
    "# Choose set of examples where csi and mist agree but random does not\n",
    "rand_diff = [i for i in equiv_form if mist_hmdb_ikey_dict[i] != csi_inchi_dict[i]]\n",
    "sample_keys = rand_diff[:10]\n",
    "sample_keys = [\"mills_143\", \"mills_1278\", \"mills_1166\", \"mills_170\", \"mills_40\"]\n",
    "for ind, i in enumerate(sample_keys):\n",
    "    print(i, csi_inchi_dict[i] == mist_hmdb_ikey_dict[i], csi_smi_dict[i], mist_hmdb_smiles_dict[i])"
   ]
  },
  {
   "attachments": {},
   "cell_type": "markdown",
   "metadata": {},
   "source": [
    "## Show that when we look at the formula identifications alone, diffs go away"
   ]
  },
  {
   "cell_type": "code",
   "execution_count": 19,
   "metadata": {},
   "outputs": [
    {
     "name": "stdout",
     "output_type": "stream",
     "text": [
      "CSI and MIST have 595 overlapping examples with equivalent formulas of total 1355 and 705 respectively\n",
      "CSI and MIST have 882 overlapping examples with equivalent formulas of total 1355 and 1499 respectively\n"
     ]
    }
   ],
   "source": [
    "# Compute overlap between csi hmdb form ids and mist forms\n",
    "\n",
    "csi_mist_form_overlap = [k for k in mist_hmdb_form_dict.keys() if csi_form_ids_dict.get(k) == mist_hmdb_form_dict.get(k)]\n",
    "csi_mist_pubchem_form_overlap = [k for k in mist_pubchem_form_dict.keys() if csi_form_ids_dict.get(k) == mist_pubchem_form_dict.get(k)]\n",
    "\n",
    "# print len\n",
    "print(f\"CSI and MIST have {len(csi_mist_form_overlap)} overlapping examples with equivalent formulas of total {len(csi_form_ids_dict)} and {len(mist_hmdb_form_dict)} respectively\")\n",
    "print(f\"CSI and MIST have {len(csi_mist_pubchem_form_overlap)} overlapping examples with equivalent formulas of total {len(csi_form_ids_dict)} and {len(mist_pubchem_form_dict)} respectively\")"
   ]
  },
  {
   "cell_type": "code",
   "execution_count": 20,
   "metadata": {},
   "outputs": [
    {
     "name": "stdout",
     "output_type": "stream",
     "text": [
      "mills_1293 C27H49NO4 C27H45NO2\n",
      "mills_1590 None C26H50NO7P\n",
      "mills_644 C15H25NO8 C16H21N5O4\n",
      "mills_155 C7H13NO C7H16N2O\n",
      "mills_660 C12H23N4O5 C15H21N5O2\n",
      "mills_1302 C16H33N7O6S C24H29N5O4\n",
      "mills_121 C11H19NO6 C15H19NOS\n",
      "mills_548 C4H9N7O3 C8H13NO5\n",
      "mills_796 C15H33N3O6 C15H29N3O4\n",
      "mills_642 C10H9N C10H12N2\n"
     ]
    }
   ],
   "source": [
    "# Look at differences\n",
    "# Get all names on which mist and csi disagree on chem formula\n",
    "csi_mist_form_diff = [k for k in mist_hmdb_form_dict.keys() if csi_form_ids_dict.get(k) != mist_hmdb_form_dict.get(k)]\n",
    "rnd_sample = csi_mist_form_diff[:10]\n",
    "for i in rnd_sample:\n",
    "    print(i, csi_form_ids_dict.get(i), mist_pubchem_form_dict[i])"
   ]
  },
  {
   "attachments": {},
   "cell_type": "markdown",
   "metadata": {},
   "source": [
    "Differences between csi pre and post retrieval"
   ]
  },
  {
   "cell_type": "code",
   "execution_count": 21,
   "metadata": {},
   "outputs": [
    {
     "name": "stdout",
     "output_type": "stream",
     "text": [
      "CSI has 625 overlapping examples with equivalent formulas of total 1355 and 1134 respectively\n"
     ]
    }
   ],
   "source": [
    "csi_self_overlap = [k for k in csi_form_ids_dict if csi_form_ids_dict.get(k) == csi_pubchem_form_dict.get(k)]\n",
    "print(f\"CSI has {len(csi_self_overlap)} overlapping examples with equivalent formulas of total {len(csi_form_ids_dict)} and {len(csi_pubchem_form_dict)} respectively\")"
   ]
  },
  {
   "attachments": {},
   "cell_type": "markdown",
   "metadata": {},
   "source": [
    "## Look at inchikey overlap between new annots with csi"
   ]
  },
  {
   "cell_type": "code",
   "execution_count": 24,
   "metadata": {},
   "outputs": [
    {
     "name": "stdout",
     "output_type": "stream",
     "text": [
      "MIST and CSI have 640 overlapping examples with equivalent formulas of total 642 and 1134 respectively\n",
      "MIST and CSI have 162 overlapping examples with equivalent inchikeys of total 642 and 1134 respectively\n",
      "['mills_1533', 'mills_1342']\n",
      "mills_1533 C13H17N2O2- C13H17N2O2 CTTCKNKDVKJORZ-UHFFFAOYSA-M DYUUGILMVYJEHY-UHFFFAOYSA-N\n",
      "mills_1342 C27H32N4O5+2 C27H32N4O5 IWYPBYQQJULZSJ-UHFFFAOYSA-P YENLRELPTNVUIB-UHFFFAOYSA-N\n"
     ]
    }
   ],
   "source": [
    "mist_csi_pubchem_form_dict, mist_csi_pubchem_ikey_dict \n",
    "mist_csi_pubchem_csi_overlap = [k for k in mist_csi_pubchem_form_dict if mist_csi_pubchem_form_dict.get(k) == csi_pubchem_form_dict.get(k)]\n",
    "print(f\"MIST and CSI have {len(mist_csi_pubchem_csi_overlap)} overlapping examples with equivalent formulas of total {len(mist_csi_pubchem_form_dict)} and {len(csi_pubchem_form_dict)} respectively\")\n",
    "# Check for ikeys\n",
    "mist_csi_pubchem_ikey_overlap = [k for k in mist_csi_pubchem_ikey_dict if mist_csi_pubchem_ikey_dict.get(k) == csi_pubchem_inchi_dict.get(k)]\n",
    "print(f\"MIST and CSI have {len(mist_csi_pubchem_ikey_overlap)} overlapping examples with equivalent inchikeys of total {len(mist_csi_pubchem_ikey_dict)} and {len(csi_pubchem_inchi_dict)} respectively\")\n",
    "\n",
    "# Where are differences in the formula between 621 and 642??\n",
    "mist_csi_pubchem_csi_diff = [k for k in mist_csi_pubchem_form_dict if mist_csi_pubchem_form_dict.get(k) != csi_pubchem_form_dict.get(k)]\n",
    "print(mist_csi_pubchem_csi_diff)\n",
    "for i in mist_csi_pubchem_csi_diff:\n",
    "    print(i, mist_csi_pubchem_form_dict[i], csi_pubchem_form_dict[i], mist_csi_pubchem_ikey_dict[i], csi_pubchem_inchi_dict[i])"
   ]
  },
  {
   "cell_type": "code",
   "execution_count": 23,
   "metadata": {},
   "outputs": [],
   "source": [
    "# # Check what fraction of overlap ikeys are in train\n",
    "# ikey_same_set = {mist_csi_pubchem_ikey_dict[i] for i in mist_csi_pubchem_ikey_overlap}\n",
    "# ref_set = set(pd.read_csv(\"../data/paired_spectra/csi2022/labels.tsv\", sep=\"\\t\")['inchikey'].values)\n",
    "# in_ref_set = ref_set.intersection(ikey_same_set)\n",
    "\n",
    "# print(f\"{len(in_ref_set)} of {len(ikey_same_set)} overlap ikeys are in train set\")\n",
    "\n",
    "# mist_ikey_total = set(mist_csi_pubchem_ikey_dict.values())\n",
    "# csi_ikey_total = set(csi_pubchem_inchi_dict.values())\n",
    "# # Check how many are in ref set from these and print\n",
    "# mist_ikey_in_ref = mist_ikey_total.intersection(ref_set)\n",
    "# csi_ikey_in_ref = csi_ikey_total.intersection(ref_set)\n",
    "# print(f\"{len(mist_ikey_in_ref)} of {len(mist_ikey_total)} MIST ikeys are in train set\")\n",
    "# print(f\"{len(csi_ikey_in_ref)} of {len(csi_ikey_total)} CSI ikeys are in train set\")\n",
    "\n",
    "# # For fraction that doesn't match, what's the avg tanimoto similarity between the top 1 hits?\n",
    "# mist_csi_ikey_diff = [k for k in mist_csi_pubchem_ikey_dict if mist_csi_pubchem_ikey_dict.get(k) != csi_pubchem_inchi_dict.get(k)]\n",
    "\n",
    "# sims = []\n",
    "# mols_list  = []\n",
    "# equiv_form = []\n",
    "# for k in mist_csi_ikey_diff: \n",
    "#     s1, s2 = mist_csi_pubchem_smiles_dict[k], csi_pubchem_smi_dict[k]\n",
    "#     f1, f2 = utils.form_from_smi(s1), utils.form_from_smi(s2)\n",
    "#     equiv_form.append(f1 == f2)\n",
    "#     mols = [Chem.MolFromSmiles(s) for s in [s1,s2]]\n",
    "#     fps = [AllChem.GetMorganFingerprintAsBitVect(m, 2, nBits=2048) for m in mols]\n",
    "#     sim = DataStructs.TanimotoSimilarity(fps[0], fps[1])\n",
    "#     sims.append(sim)\n",
    "#     mols_list.append(mols)\n",
    "# print(np.mean(equiv_form), np.mean(sims))\n",
    "# # Confirm\n",
    "# a, b  = np.array(mols_list), np.array(sims)\n",
    "# ind = np.random.randint(0, len(a))\n",
    "# # Print sim nd idisplay mol grid\n",
    "# print(b[ind])\n",
    "# # Label with \"mist\", \"csi\"\n",
    "# Draw.MolsToGridImage(a[ind], molsPerRow=2, subImgSize=(300,300), legends=[\"mist\", \"csi\"])\n",
    "# # Plot distribution of tanimoto similarities with seaborn\n",
    "# sns.histplot(sims, bins=20, kde=True, stat=\"density\", alpha=0.5, color=\"blue\") \n",
    "# plt.title(\"Top 1 tani sim from mist/csi in pubchem when not matched\")\n",
    "# plt.xlabel(\"Tani sim\")"
   ]
  },
  {
   "cell_type": "code",
   "execution_count": null,
   "metadata": {},
   "outputs": [],
   "source": []
  }
 ],
 "metadata": {
  "kernelspec": {
   "display_name": "ms-gen",
   "language": "python",
   "name": "python3"
  },
  "language_info": {
   "codemirror_mode": {
    "name": "ipython",
    "version": 3
   },
   "file_extension": ".py",
   "mimetype": "text/x-python",
   "name": "python",
   "nbconvert_exporter": "python",
   "pygments_lexer": "ipython3",
   "version": "3.8.13"
  },
  "toc": {
   "base_numbering": 1,
   "nav_menu": {},
   "number_sections": true,
   "sideBar": true,
   "skip_h1_title": false,
   "title_cell": "Table of Contents",
   "title_sidebar": "Contents",
   "toc_cell": false,
   "toc_position": {
    "height": "calc(100% - 180px)",
    "left": "10px",
    "top": "150px",
    "width": "255.998px"
   },
   "toc_section_display": true,
   "toc_window_display": true
  }
 },
 "nbformat": 4,
 "nbformat_minor": 2
}
