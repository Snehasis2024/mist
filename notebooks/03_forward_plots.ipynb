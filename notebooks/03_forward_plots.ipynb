{
 "cells": [
  {
   "attachments": {},
   "cell_type": "markdown",
   "metadata": {},
   "source": [
    "# 03 forward plots\n",
    "Making forward plots to verify reasonable spectra predictions for data augmentation"
   ]
  },
  {
   "cell_type": "code",
   "execution_count": 36,
   "metadata": {},
   "outputs": [],
   "source": [
    "import pandas as pd\n",
    "from pathlib import Path\n",
    "from rdkit import Chem\n",
    "from rdkit.Chem import Draw\n",
    "import numpy as np\n",
    "import matplotlib.pyplot as plt\n",
    "from datetime import datetime\n",
    "import pickle\n",
    "\n",
    "from rdkit import Chem\n",
    "from rdkit.Chem import Draw"
   ]
  },
  {
   "cell_type": "code",
   "execution_count": 2,
   "metadata": {},
   "outputs": [
    {
     "name": "stderr",
     "output_type": "stream",
     "text": [
      "/home/samlg/.conda/envs/ms-gen/lib/python3.8/site-packages/tqdm/auto.py:22: TqdmWarning: IProgress not found. Please update jupyter and ipywidgets. See https://ipywidgets.readthedocs.io/en/stable/user_install.html\n",
      "  from .autonotebook import tqdm as notebook_tqdm\n"
     ]
    }
   ],
   "source": [
    "\n",
    "import mist.utils  as utils\n",
    "from mist.utils import plot_utils\n",
    "\n",
    "plot_utils.set_style()"
   ]
  },
  {
   "cell_type": "code",
   "execution_count": null,
   "metadata": {},
   "outputs": [],
   "source": [
    "input_dir = \"../data/paired_spectra/canopus_train/\"\n",
    "input_dir = Path(input_dir)\n",
    "forward_folder = input_dir / \"morgan4096_spec_preds_fold_100_0\"\n",
    "labels_file = input_dir / \"labels.tsv\"\n",
    "k = 6\n",
    "date = datetime.now().strftime(\"%Y_%m_%d\")\n",
    "res_dir = f\"../results/{date}_output_forward_imgs\"\n",
    "res_dir_orig = Path(res_dir)\n",
    "res_dir_orig.mkdir(exist_ok=True)"
   ]
  },
  {
   "cell_type": "code",
   "execution_count": null,
   "metadata": {},
   "outputs": [],
   "source": [
    "full_labels = pd.read_csv(labels_file, sep=\"\\t\")\n",
    "forward_labels_file = forward_folder / \"labels.tsv\"\n",
    "forward_labels = pd.read_csv(forward_labels_file, sep=\"\\t\", index_col=0)"
   ]
  },
  {
   "cell_type": "code",
   "execution_count": null,
   "metadata": {},
   "outputs": [],
   "source": [
    "name_to_full_smi = dict(full_labels[['spec', 'smiles']].values)\n",
    "name_to_forward_smi = dict(forward_labels[['spec', 'smiles']].values)\n",
    "\n",
    "name_to_full_ikey = dict(full_labels[['spec', 'inchikey']].values)\n",
    "name_to_forward_ikey = dict(forward_labels[['spec', 'inchikey']].values)\n",
    "\n",
    "ikey_to_forward = dict(forward_labels[['inchikey', 'spec']].values)\n",
    "ikey_to_spec = dict(full_labels[['inchikey', 'spec']].values)\n",
    "print(len(ikey_to_forward.keys()))\n",
    "print(len(ikey_to_spec.keys()))"
   ]
  },
  {
   "cell_type": "code",
   "execution_count": null,
   "metadata": {},
   "outputs": [],
   "source": [
    "ikeys_forward = set(ikey_to_forward.keys())\n",
    "ikeys_full = set(ikey_to_spec.keys())\n",
    "ikey_overlap = ikeys_full.intersection(ikeys_forward)\n",
    "print(\"Len of overlap\", len(ikey_overlap))\n"
   ]
  },
  {
   "cell_type": "code",
   "execution_count": null,
   "metadata": {},
   "outputs": [],
   "source": [
    "split_file = \"../data/paired_spectra/canopus_train/splits/canopus_hplus_100_0.csv\"\n",
    "split_df = pd.read_csv(split_file,)\n",
    "split_df_test_names = split_df[split_df['Fold_100_0'] == \"test\"]\n",
    "split_df_train_names = split_df[split_df['Fold_100_0'] == \"train\"]\n",
    "\n",
    "test_names = split_df_test_names['name'].values\n",
    "train_names = split_df_train_names['name'].values\n",
    "test_ikeys = [name_to_full_ikey[i] for i in test_names]\n",
    "train_ikeys = [name_to_full_ikey[i] for i in train_names]\n",
    "print(len(ikey_overlap.intersection(train_ikeys)), len(train_ikeys))\n",
    "print(len(ikey_overlap.intersection(test_ikeys)), len(test_ikeys))"
   ]
  },
  {
   "cell_type": "code",
   "execution_count": null,
   "metadata": {},
   "outputs": [],
   "source": [
    "# Sample forward ikey\n",
    "test_name = np.random.choice(test_names)\n",
    "test_ikey = name_to_full_ikey[test_name]\n",
    "sample_spec = ikey_to_forward[test_ikey]\n",
    "# sample_spec = np.random.choice(forward_labels['spec'].values)\n",
    "sample_compound = name_to_forward_smi[sample_spec]\n",
    "print(sample_compound)\n",
    "Chem.MolFromSmiles(sample_compound)"
   ]
  },
  {
   "cell_type": "code",
   "execution_count": null,
   "metadata": {},
   "outputs": [],
   "source": [
    "pred_file = forward_folder / \"spectra\" / f\"{sample_spec}.tsv\"\n",
    "spec = pd.read_csv(pred_file, sep=\"\\t\", index_col=0)"
   ]
  },
  {
   "attachments": {},
   "cell_type": "markdown",
   "metadata": {},
   "source": []
  },
  {
   "cell_type": "code",
   "execution_count": null,
   "metadata": {},
   "outputs": [],
   "source": [
    "sirius_df = forward_folder.parent / \"sirius_outputs/summary_statistics/summary_df.tsv\"\n",
    "sirius_df = pd.read_csv(sirius_df, sep=\"\\t\", index_col=0)\n",
    "real_spec = forward_folder.parent / \"spec_files\" / f\"{test_name}.ms\"\n",
    "\n",
    "spec_name_to_sirius = dict(sirius_df[['spec_name', \"spec_file\"]].values)\n",
    "real_spec = spec_name_to_sirius[test_name]\n",
    "real_df = pd.read_csv(Path(\"../\") / real_spec, sep=\"\\t\")\n",
    "mzs, intens = real_df[['mz', \"rel.intensity\"]]\n",
    "#real_spec "
   ]
  },
  {
   "cell_type": "code",
   "execution_count": null,
   "metadata": {},
   "outputs": [],
   "source": [
    "# spec_ar = utils.parse_spectra(real_spec)[1][0][1]\n",
    "# spec_ar = np.array([j for j in sorted(spec_ar, key = lambda x : x[1])][-20:])\n",
    "# spec_ar[:, 1] = spec_ar[:, 1] /  spec_ar[:, 1].max()\n",
    "# mzs, intens = spec_ar[:, 0], spec_ar[:, 1]\n",
    "fig = plt.figure(figsize=(3.5,1.7), dpi=300)\n",
    "ax = fig.gca()\n",
    "for ind, (m, i) in enumerate(zip(mzs, intens)): \n",
    "    ax.vlines(x=m, ymin=0,ymax=i, color=\"black\", linewidth=0.5)\n",
    "ax.set_xlabel(\"M/Z\")\n",
    "ax.set_ylabel(\"Intensity\")\n",
    "ax.set_ylim([0,1.2])\n",
    "print(sample_compound)"
   ]
  },
  {
   "cell_type": "code",
   "execution_count": null,
   "metadata": {},
   "outputs": [],
   "source": [
    "mzs, intens = zip(*spec[[\"mz\", \"intensity\"]].values)\n",
    "fig = plt.figure(figsize=(3.5,1.7), dpi=300)\n",
    "ax = fig.gca()\n",
    "for ind, (m, i) in enumerate(zip(mzs, intens)): \n",
    "    ax.vlines(x=m, ymin=0,ymax=i, color=\"black\", linewidth=0.5)\n",
    "\n",
    "mzs, intens = real_df[['mz', \"rel.intensity\"]]\n",
    "for ind, (m, i) in enumerate(zip(mzs, intens)): \n",
    "    ax.vlines(x=m, ymin=0,ymax=-float(i), color=\"red\", linewidth=0.5)\n",
    "ax.set_xlabel(\"M/Z\")\n",
    "ax.set_ylabel(\"Intensity\")\n",
    "ax.set_ylim([-1.2,1.2])\n",
    "print(sample_compound)"
   ]
  },
  {
   "cell_type": "code",
   "execution_count": null,
   "metadata": {
    "scrolled": true
   },
   "outputs": [],
   "source": [
    "# Create plot\n",
    "res_dir.mkdir(exist_ok=True)\n",
    "fig = plt.figure(figsize=(3.5,1.7), dpi=300)\n",
    "ax = fig.gca()\n",
    "full_out_smi = res_dir / f\"{spec_name}_mol_full.pdf\"\n",
    "\n",
    "mol = Chem.MolFromSmiles(spec_smiles)\n",
    "Chem.Kekulize(mol)\n",
    "export_mol(mol, full_out_smi)\n",
    "for ind, (smi, (m, i)) in enumerate(zip(smiles, zip(mzs, intens))): \n",
    "    ax.vlines(x=m, ymin=0,ymax=i, color=\"black\", linewidth=0.5)\n",
    "    if smi is not None and i in top_intens: \n",
    "        mol = Chem.MolFromSmiles(smi, sanitize=False)\n",
    "        if mol is not None:\n",
    "            try:\n",
    "                Chem.Kekulize(mol)\n",
    "            except:\n",
    "                continue\n",
    "            ax.text(x=m, y=i + 0.2, s = f\"{ind}\", fontsize=4, rotation=90) \n",
    "            temp_out_smi = res_dir / f\"{spec_name}_mol_{ind}.pdf\"\n",
    "            export_mol(mol, temp_out_smi)\n",
    "\n",
    "ax.set_xlabel(\"M/Z\")\n",
    "ax.set_ylabel(\"Intensity\")\n",
    "ax.set_ylim([0,1.5])\n",
    "ax.set_title(f\"Spectra: {spec_name}\")\n",
    "plt.savefig(res_dir / f\"{spec_name}_out_spec.pdf\", bbox_inches=\"tight\")"
   ]
  },
  {
   "attachments": {},
   "cell_type": "markdown",
   "metadata": {},
   "source": [
    "## Forward statistics analysis for revision"
   ]
  },
  {
   "cell_type": "code",
   "execution_count": null,
   "metadata": {},
   "outputs": [],
   "source": []
  },
  {
   "cell_type": "code",
   "execution_count": 70,
   "metadata": {},
   "outputs": [],
   "source": [
    "# Import and load all test sepctra\n",
    "input_dir = \"../data/paired_spectra/canopus_train/\"\n",
    "input_dir = Path(input_dir)\n",
    "labels_file = input_dir / \"labels.tsv\"\n",
    "labels_df = pd.read_csv(labels_file, sep=\"\\t\")\n",
    "name_to_smiles = dict(labels_df[[\"spec\", \"smiles\"]].values)\n",
    "\n",
    "# Get split\n",
    "split_file = input_dir / \"splits/canopus_hplus_100_0.csv\"\n",
    "name_to_fold = dict(pd.read_csv(split_file)[[\"name\", \"Fold_100_0\"]].values)\n",
    "test_names = [k for k,v in name_to_fold.items() if v == \"test\"]\n",
    "test_smi = [name_to_smiles[k] for k in test_names]\n",
    "\n",
    "# Load all spectra\n",
    "spec_name_df = input_dir / \"sirius_outputs/summary_statistics/summary_df.tsv\"\n",
    "spec_name_df = pd.read_csv(spec_name_df, sep=\"\\t\")\n",
    "spec_name_to_tsv = dict(spec_name_df[[\"spec_name\", \"spec_file\"]].values)\n",
    "\n"
   ]
  },
  {
   "cell_type": "code",
   "execution_count": 71,
   "metadata": {},
   "outputs": [
    {
     "name": "stderr",
     "output_type": "stream",
     "text": [
      "100%|██████████| 91/91 [00:00<00:00, 130.46it/s]\n"
     ]
    }
   ],
   "source": [
    "num_bins, upper_limit = 15000, 1500\n",
    "def process_spec_file(\n",
    "    spec_name, num_bins: int = num_bins, upper_limit: int = upper_limit\n",
    "):\n",
    "    \"\"\"process_spec_file.\"\"\"\n",
    "\n",
    "    # Hack for directory..\n",
    "    spec_file = f\"../{spec_name_to_tsv.get(spec_name)}\"\n",
    "    if spec_file is None:\n",
    "        return None\n",
    "\n",
    "    spec_tbl = pd.read_csv(spec_file, sep=\"\\t\")\n",
    "    if (spec_tbl[\"intensity\"].max() == 0) or len(spec_tbl) == 0:\n",
    "        return None\n",
    "\n",
    "    formulae, inten = zip(*spec_tbl[[\"formula\", \"intensity\"]].values)\n",
    "    masses = [utils.formula_mass(i) for i in formulae]\n",
    "\n",
    "    # Shape 1 x num peaks x 2\n",
    "    spectrum = np.vstack([masses, inten]).transpose(1, 0)[None, :, :]\n",
    "    binned = utils.bin_spectra(spectrum, num_bins, upper_limit)\n",
    "    normed = utils.norm_spectrum(binned)\n",
    "    avged = normed.mean(0)\n",
    "    return avged\n",
    "\n",
    "spec_outputs = utils.chunked_parallel(\n",
    "    test_names,\n",
    "    process_spec_file,\n",
    "    chunks=100,\n",
    "    max_cpu=10,\n",
    "    timeout=4000,\n",
    "    max_retries=3,\n",
    ")"
   ]
  },
  {
   "cell_type": "code",
   "execution_count": 72,
   "metadata": {},
   "outputs": [],
   "source": [
    "test_smiles = [name_to_smiles[i] for i in test_names]"
   ]
  },
  {
   "cell_type": "code",
   "execution_count": 73,
   "metadata": {},
   "outputs": [
    {
     "data": {
      "text/plain": [
       "[<matplotlib.lines.Line2D at 0x7f1073da54c0>]"
      ]
     },
     "execution_count": 73,
     "metadata": {},
     "output_type": "execute_result"
    },
    {
     "data": {
      "image/png": "[encoded data removed]",
      "text/plain": [
       "<Figure size 640x480 with 1 Axes>"
      ]
     },
     "metadata": {},
     "output_type": "display_data"
    }
   ],
   "source": [
    "bins = np.linspace(0,1500,15000)\n",
    "plt.plot(bins, spec_outputs[0])"
   ]
  },
  {
   "cell_type": "code",
   "execution_count": 105,
   "metadata": {},
   "outputs": [
    {
     "name": "stdout",
     "output_type": "stream",
     "text": [
      "no_reverse\n",
      "no_growing\n",
      "full_model\n"
     ]
    }
   ],
   "source": [
    "def inds_to_dense(inds, vals, num_bins=15000, upper_limit=1500):\n",
    "    \"\"\"inds_to_dense.\"\"\"\n",
    "    dense = np.zeros(num_bins)\n",
    "    dense[inds] = vals\n",
    "    return dense\n",
    "\n",
    "def cos_sim(pred_ar, true_ar):\n",
    "    \"\"\"cos_sim.\"\"\"\n",
    "    num = np.sum(pred_ar * true_ar, 1)\n",
    "    denom = np.sqrt(np.sum(pred_ar**2, 1)) * np.sqrt(np.sum(true_ar**2, 1)) + 1e-12\n",
    "    return num / denom\n",
    "\n",
    "# Compute the fraction of the true peaks present in the predicted peaks\n",
    "def frac_true_in_pred(pred_ar, true_ar):\n",
    "    \"\"\"frac_true_in_pred.\"\"\"\n",
    "\n",
    "    # Check which bins have some >0 value in each \n",
    "    num_overlap = ((pred_ar * true_ar) > 0).sum(-1)\n",
    "    return num_overlap / np.sum(true_ar >0, -1)\n",
    "\n",
    "out_dicts = []\n",
    "test_names_set = set(test_names)\n",
    "test_smis_set = set(test_smiles)\n",
    "forward_res_folder = Path(\"../results/2023_05_04_forward_analysis/\")\n",
    "for res_file in forward_res_folder.rglob(\"*.p\"):\n",
    "    model_name = res_file.parent.stem\n",
    "    print(model_name)\n",
    "    # Load res file pickle (keys are 'preds', 'names')\n",
    "    res = pickle.load(open(res_file, \"rb\"))\n",
    "\n",
    "    # Subset to only the preds in test_names\n",
    "    # note that names is a list\n",
    "    bool_ar = np.array([n in test_smis_set for n in res[\"names\"]])\n",
    "    preds = [inds_to_dense(inds=i[0], vals=i[1]) for i in res[\"preds\"]]\n",
    "    test_preds = np.array(preds)[bool_ar]\n",
    "    test_smiles = np.array(res[\"names\"])[bool_ar]\n",
    "    smi_to_preds = dict(zip(test_smiles, test_preds))\n",
    "\n",
    "    pred_ar = np.vstack([smi_to_preds[name_to_smiles[k]]  for k in test_names])\n",
    "    true_ar = np.vstack(spec_outputs)\n",
    "\n",
    "    # Zero all but the top 100 entries in each row\n",
    "    pred_top = np.zeros_like(pred_ar)\n",
    "    true_top = np.zeros_like(true_ar)\n",
    "    for i in range(pred_ar.shape[0]):\n",
    "        pred_top[i][np.argsort(pred_ar[i])[-100:]] = pred_ar[i][np.argsort(pred_ar[i])[-100:]]\n",
    "        true_top[i][np.argsort(true_ar[i])[-100:]] = true_ar[i][np.argsort(true_ar[i])[-100:]]\n",
    "    \n",
    "    cos_sim_all = cos_sim(pred_top, true_top)\n",
    "    covg_all = frac_true_in_pred(pred_top, true_top)\n",
    "\n",
    "    # Compute mean and sem of these and put it in a dict\n",
    "    cos_sim_mean = cos_sim_all.mean()\n",
    "    cos_sim_sem = cos_sim_all.std() / np.sqrt(cos_sim_all.shape[0])\n",
    "    covg_mean = covg_all.mean()\n",
    "    covg_sem = covg_all.std() / np.sqrt(covg_all.shape[0])\n",
    "\n",
    "    out_dict = {\n",
    "        \"cos_sim_mean\": cos_sim_mean,\n",
    "        \"cos_sim_sem\": cos_sim_sem,\n",
    "        \"covg_mean\": covg_mean,\n",
    "        \"covg_sem\": covg_sem,\n",
    "        \"model\": model_name,\n",
    "    }\n",
    "    out_dicts.append(out_dict)"
   ]
  },
  {
   "cell_type": "code",
   "execution_count": 109,
   "metadata": {},
   "outputs": [
    {
     "data": {
      "text/html": [
       "<div>\n",
       "<style scoped>\n",
       "    .dataframe tbody tr th:only-of-type {\n",
       "        vertical-align: middle;\n",
       "    }\n",
       "\n",
       "    .dataframe tbody tr th {\n",
       "        vertical-align: top;\n",
       "    }\n",
       "\n",
       "    .dataframe thead th {\n",
       "        text-align: right;\n",
       "    }\n",
       "</style>\n",
       "<table border=\"1\" class=\"dataframe\">\n",
       "  <thead>\n",
       "    <tr style=\"text-align: right;\">\n",
       "      <th></th>\n",
       "      <th>cos_sim_mean</th>\n",
       "      <th>cos_sim_sem</th>\n",
       "      <th>covg_mean</th>\n",
       "      <th>covg_sem</th>\n",
       "      <th>model</th>\n",
       "    </tr>\n",
       "  </thead>\n",
       "  <tbody>\n",
       "    <tr>\n",
       "      <th>0</th>\n",
       "      <td>0.258297</td>\n",
       "      <td>0.005780</td>\n",
       "      <td>0.515953</td>\n",
       "      <td>0.008845</td>\n",
       "      <td>no_reverse</td>\n",
       "    </tr>\n",
       "    <tr>\n",
       "      <th>1</th>\n",
       "      <td>0.350185</td>\n",
       "      <td>0.005835</td>\n",
       "      <td>0.555517</td>\n",
       "      <td>0.008841</td>\n",
       "      <td>no_growing</td>\n",
       "    </tr>\n",
       "    <tr>\n",
       "      <th>2</th>\n",
       "      <td>0.383937</td>\n",
       "      <td>0.005591</td>\n",
       "      <td>0.581546</td>\n",
       "      <td>0.008601</td>\n",
       "      <td>full_model</td>\n",
       "    </tr>\n",
       "  </tbody>\n",
       "</table>\n",
       "</div>"
      ],
      "text/plain": [
       "   cos_sim_mean  cos_sim_sem  covg_mean  covg_sem       model\n",
       "0      0.258297     0.005780   0.515953  0.008845  no_reverse\n",
       "1      0.350185     0.005835   0.555517  0.008841  no_growing\n",
       "2      0.383937     0.005591   0.581546  0.008601  full_model"
      ]
     },
     "execution_count": 109,
     "metadata": {},
     "output_type": "execute_result"
    }
   ],
   "source": [
    "out_df = pd.DataFrame(out_dicts)\n",
    "out_df.to_csv(forward_res_folder / \"forward_analysis.tsv\", index=False, sep=\"\\t\")\n",
    "out_df"
   ]
  },
  {
   "attachments": {},
   "cell_type": "markdown",
   "metadata": {},
   "source": []
  },
  {
   "cell_type": "code",
   "execution_count": null,
   "metadata": {},
   "outputs": [],
   "source": []
  },
  {
   "cell_type": "code",
   "execution_count": null,
   "metadata": {},
   "outputs": [],
   "source": []
  },
  {
   "cell_type": "code",
   "execution_count": null,
   "metadata": {},
   "outputs": [],
   "source": []
  }
 ],
 "metadata": {
  "kernelspec": {
   "display_name": "ms-gen",
   "language": "python",
   "name": "python3"
  },
  "language_info": {
   "codemirror_mode": {
    "name": "ipython",
    "version": 3
   },
   "file_extension": ".py",
   "mimetype": "text/x-python",
   "name": "python",
   "nbconvert_exporter": "python",
   "pygments_lexer": "ipython3",
   "version": "3.8.13"
  },
  "toc": {
   "base_numbering": 1,
   "nav_menu": {},
   "number_sections": true,
   "sideBar": true,
   "skip_h1_title": false,
   "title_cell": "Table of Contents",
   "title_sidebar": "Contents",
   "toc_cell": false,
   "toc_position": {},
   "toc_section_display": true,
   "toc_window_display": false
  }
 },
 "nbformat": 4,
 "nbformat_minor": 2
}
